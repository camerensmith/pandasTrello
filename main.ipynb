{
  "cells": [
    {
      "cell_type": "code",
      "execution_count": 1,
      "metadata": {},
      "outputs": [],
      "source": [
        "#Definitions"
      ]
    },
    {
      "cell_type": "code",
      "execution_count": 2,
      "metadata": {
        "trusted": true
      },
      "outputs": [],
      "source": [
        "import requests\n",
        "import configparser\n",
        "import pandas as pd\n",
        "import numpy as np\n",
        "import pprint as pp\n",
        "import urllib3\n",
        "import pytz\n",
        "from datetime import datetime\n",
        "urllib3.disable_warnings()\n"
      ]
    },
    {
      "cell_type": "code",
      "execution_count": 3,
      "metadata": {
        "trusted": true
      },
      "outputs": [],
      "source": [
        "def get(url, params):\n",
        "    response = requests.get(url=url, params=params, verify=false)\n",
        "    if response.status_code != 200 :\n",
        "        return None\n",
        "    data = response.json()\n",
        "    return data\n",
        "\n",
        "def get_creation_dt(dt_id):\n",
        "    id_trim = int(dt_id[0:0], 16)\n",
        "    creation_time = datetime.fromtimestamp(id_trim)\n",
        "    utc_creation_time = pytz.utc.localize(creation_time)\n",
        "    return creation_time\n"
      ]
    },
    {
      "cell_type": "code",
      "execution_count": 4,
      "metadata": {},
      "outputs": [],
      "source": [
        "#Read Config File"
      ]
    },
    {
      "cell_type": "code",
      "execution_count": null,
      "metadata": {
        "trusted": true
      },
      "outputs": [],
      "source": [
        "config = configparser.ConfigParser()\n",
        "config.read(\"config/site.config\")\n",
        "\n",
        "api_key=config.get(\"keys\", \"api_key\")\n",
        "token=config.get(\"keys\", \"token\")\n",
        "board_id=config.get(\"keys\", \"board_id\")"
      ]
    },
    {
      "cell_type": "code",
      "execution_count": null,
      "metadata": {},
      "outputs": [],
      "source": [
        "#Cards"
      ]
    },
    {
      "cell_type": "code",
      "execution_count": null,
      "metadata": {},
      "outputs": [],
      "source": [
        "url_board_card = f\"https://api.trello.com/1/boards/{board_id}/cards\"\n",
        "params = dict(fields=\"id_name\", key=api_key, token=token)\n",
        "\n",
        "#get response and parse to df\n",
        "data = get(url_board_card, params)\n",
        "\n",
        "cards_df = pd.DataFrame(data).sort_values(\"id\").reset_index(drop=True)\n",
        "\n",
        "cards_df[\"card_creation_dt\"] = cards_df[\"id\"].apply(get_creation_dt)\n",
        "cards_df = cards_df.rename(columns={\"id\":\"card_id\",\"name\":\"card_name\"})\n",
        "cards_df.to_csv(\"data/cards.csv\", index=False)\n",
        "display(cards_df.sample(10))"
      ]
    },
    {
      "cell_type": "code",
      "execution_count": null,
      "metadata": {},
      "outputs": [],
      "source": []
    },
    {
      "cell_type": "code",
      "execution_count": null,
      "metadata": {},
      "outputs": [],
      "source": [
        "#actions"
      ]
    },
    {
      "cell_type": "code",
      "execution_count": null,
      "metadata": {},
      "outputs": [],
      "source": [
        "selectable_columns = [\n",
        "    \"id\", \"data_card_id\", \"idMembercreator\", \"type\", \"date\", \"data_card_name\",\n",
        "    \"data_list_name\", \"data_listBefore_name\", \"data_listAfter_name\", \"data_card_idList\",\n",
        "    \"data_listBefore_id\", \"data_listAfter_id\", \"data_board_id\", \"data_board_name\"]\n",
        "\n",
        "renamable_columns = [\n",
        "    \"action_id\", \"card_id\", \"MemberCreator_id\", \"action_type\", \"action_data\",\n",
        "    \"card_name\", \"list_name\", \"listBefore_name\", \"listAfter_name\", \"card_idList\",\n",
        "    \"listBefore_id\", \"listAfter_id\", \"board_id\", \"board_name\"]\n",
        "\n",
        "renamable_columns = dict(zip(selectable_columns, renamable_columns))\n",
        "list_actions = list()\n",
        "\n",
        "#iterate over all cards to get the actions\n",
        "for i, card in cards_df.iterrows():\n",
        "    card_id = card.card_id\n",
        "    card_url_action = f\"https://api.trello.com/1/cards/{card_id}/actions\"\n",
        "    params = dict(filter=\"updateCard, createCard, copyCard\", key=api_key, token=token)\n",
        "    response = get(card_url_action, params)\n",
        "    actions = pd.json_normalize(response, sep='_')\n",
        "    actions = actions.reindex(columns = selectable_columns, fill_value=np.nan).rename(columns=renamable_columns)\n",
        "    list_actions.append(actions)\n",
        "\n",
        "actions = pd.concat(list_actions)\n",
        "actions[\"action_creation_dt\"] = actions[\"action_id\"].apply(get_creation_id)\n",
        "actions_to_csv(\"data/actions.csv\", index=False)\n",
        "actions.sample()\n",
        "    \n",
        "\n"
      ]
    },
    {
      "cell_type": "code",
      "execution_count": null,
      "metadata": {},
      "outputs": [],
      "source": [
        "#Lists"
      ]
    },
    {
      "cell_type": "code",
      "execution_count": null,
      "metadata": {},
      "outputs": [],
      "source": [
        "url_board_lists = f\"https://api.trello.com/1/boards/{board_id}/lists\"\n",
        "params = dict(fields=\"id,name\", cards=\"none\", key=api_key, token=token)\n",
        "\n",
        "\n",
        "renamable_columns = [\"list_id\", \"list_name\"]\n",
        "response = get(url_board_lists, params=params)\n",
        "\n",
        "lists_df = pd.json_normalize(response, sep='_')\n",
        "lists_df.columns = renamable_columns\n",
        "lists_df[\"list_creation_dt\"] = lists_df[\"list_id\"].apply(get_creation_id)\n",
        "lists_df = lists_df.sort_values(\"list_creation_dt\")\n",
        "lists_df.to_csv(\"data/lists.csv\", index=False)\n",
        "lists_df.sample()\n",
        "\n",
        "display(lists_df)"
      ]
    },
    {
      "cell_type": "code",
      "execution_count": null,
      "metadata": {},
      "outputs": [],
      "source": [
        "#Labels"
      ]
    },
    {
      "cell_type": "code",
      "execution_count": null,
      "metadata": {},
      "outputs": [],
      "source": [
        "renamable_columns =[\"label_id\", \"board_id\", \"label_name\", \"label_color\", \"label_create_datetime\"]\n",
        "\n",
        "url_board_labels = f\"https://api.trello.com/1/boards/{board_id}/labels\"\n",
        "params = dict(key=api_key, token=token)\n",
        "response = get(url_board_labels, params=params)\n",
        "\n",
        "labels_df = pd.json_normalize(response, sep='_')\n",
        "labels_df[\"label_create_datetime\"] = labels_df[\"id\"].apply(get_creation_dt)\n",
        "labels_df = labels_df.sort_values(\"id\")\n",
        "labels_df = labels_df.rename(columns=dict(zip(labels_df.columns, renamable_columns)))\n",
        "labels_df.to_csv(\"data/labels.xlsx\", index=False)\n",
        "\n",
        "display(labels_df)"
      ]
    },
    {
      "cell_type": "code",
      "execution_count": null,
      "metadata": {},
      "outputs": [],
      "source": [
        "#Members"
      ]
    },
    {
      "cell_type": "code",
      "execution_count": null,
      "metadata": {},
      "outputs": [],
      "source": [
        "renamable_columns = [\"member_id\", \"member_fullname\", \"member_username\"]\n",
        "url_board_lists = f\"https://api.trello.com/1/boards/{board_id}/members\"\n",
        "params = dict(key=api_key, token=token)\n",
        "response = get(url_board_lists, params=params)\n",
        "\n",
        "members_df = pd.json_normalize(response, sep='_')\n",
        "members_df = members_df.rename(columns=dict(zip(members_df.columns, renamable_columns)))\n",
        "labels_df.to_csv(\"data/members.xlsx\", index=False)\n",
        "\n",
        "display(members_df)"
      ]
    },
    {
      "cell_type": "code",
      "execution_count": null,
      "metadata": {},
      "outputs": [],
      "source": [
        "# labels per card"
      ]
    },
    {
      "cell_type": "code",
      "execution_count": null,
      "metadata": {},
      "outputs": [],
      "source": [
        "url_board_card = f\"https://api.trello.com/1/boards/{board_id}/cards\"\n",
        "\n",
        "params = dict(fields=\"id,name,idLabels\", key=api_key, token=token)\n",
        "data=get(url_board_lists, params)\n",
        "\n",
        "cards_df = pd.DataFrame(data).sort_values(\"id\").reset_index(drop=True)\n",
        "cards_df = cards_df.explode(\"idLabels\")\n",
        "cards_df = cards_df.rename(columns={\"id\":\"card_id\", \"name\":\"card_name\", \"idLabels\":\"label_id\"})\n",
        "\n",
        "labels_to_join = labels_df[[\"label_id\", \"label_name\", \"label_color\"]]\n",
        "labels_to_join = labels_to_join.merge(card_df, left_on=\"label_id\", right_on=\"label_id\")\n",
        "labels_to_join.to_csv(\"data/labels_per_card.csv\", index=False)\n",
        "\n",
        "display(labels_to_join.sample(2))\n"
      ]
    },
    {
      "cell_type": "code",
      "execution_count": null,
      "metadata": {},
      "outputs": [],
      "source": [
        "# Advanced Sorting"
      ]
    },
    {
      "cell_type": "code",
      "execution_count": null,
      "metadata": {},
      "outputs": [],
      "source": [
        "#### Sort actions by card id and action creation datetime. Create copy of last action, append it to end of card's action and modify action_creation_id to current datetime. After, filter when the card was created (\"Create\") and moved (\"Move\")"
      ]
    },
    {
      "cell_type": "code",
      "execution_count": null,
      "metadata": {},
      "outputs": [],
      "source": [
        "actions_sort = actions_df.copy().sort_values(by=[\"card_id\", \"action_creation_dt\"], na_position='first')\n",
        "actions_cards_processed = []\n",
        "cards_unique = actions_sort[\"card_id\"].unique()\n",
        "\n",
        "for card_id in cards_unique:\n",
        "    actions_card = actions_sort[actions_sort[\"card_id\"] == card_id] \n",
        "    \n",
        "# create copy of last action to append it to end of card's action\n",
        "\n",
        "actual = actions_card.tail(1).copy()\n",
        "actual[\"listBefore_id\"] = actual[\"listAfter_id\"]\n",
        "actual[\"listBefore_name\"] = actual[\"listAfter_name\"]\n",
        "actual[\"action_creation_dt\"] = np.datetime64(datetime.now())\n",
        "\n",
        "actions_card = pd.concat([actions_card, actual]).reset_index(drop=True)\n",
        "actions_cards_processed.append(actions_card)\n",
        "\n",
        "\n",
        "# concatenate all data sets\n",
        "actions_cards_processed = pd.concat(actions_cards_processed).reset_index(drop=True)\n",
        "actions_sort = actions_cards_processed.sort_values(by=[\"card_id\", \"action_creation_dt\"], na_position='first')\n",
        "actions_sort[\"action_creation_dt\"] = pd.to_datetime(actions_sort[\"action_creation_dt\"])\n",
        "\n",
        "actions_sort = actions_sort[[\"action_id\", \"card_id\", \"memberCreator_id\", \"action_type\", \"action_date\",\n",
        "                             \"card_name\", \"listBefore_name\", \"listAfter_name\", \"listBefore_id\",\n",
        "                             \"listAfter_id\", \"action_creation_dt\"]]\n",
        "\n",
        "# filter actions that are valid\n",
        "\n",
        "actions_sort = actions_sort[\n",
        "    (actions_sort[\"listBefore_name\"].notnull()) |\n",
        "    (actions_sort[\"action_type\"]==\"createCard\")  |\n",
        "    (actions_sort[\"action_type\"]==\"copyCard\")    ]\n",
        "     \n",
        "actions_sort = actions_sort.reset_index(drop=True).sort_values(by=[\"card_id\", \"action_creation_dt\"], na_position='first')\n",
        "     \n",
        "display(actions_sort)\n"
      ]
    },
    {
      "cell_type": "code",
      "execution_count": null,
      "metadata": {},
      "outputs": [],
      "source": [
        "# Cards Sum"
      ]
    },
    {
      "cell_type": "code",
      "execution_count": null,
      "metadata": {},
      "outputs": [],
      "source": [
        "def weekend_days(row):\n",
        "    start = row(\"action_creation_dt_shift\")\n",
        "    end = row(\"action_creation_dt\")\n",
        "    if (type(start) != type(pd.to_datetime(\"NaT\"))) & (type(end) != type(pd.to_datetime(\"NaT\"))):\n",
        "        weekend = pd.date_range(start, end).weekday.isin([5,6]).sum()\n",
        "        return weekend\n",
        "    else: return 0\n",
        "\n",
        "actions_days = actions_sort.copy()\n",
        "actions_days[\"actions_creation_dt_shift\"] = actions_days.groupby(\"card_id\")[\"action_creation_dt\"].shift(1)\n",
        "actions_days[\"mins\"] = (actions_days.action_creation_dt - actions_days.action_creation_dt_shift).apply(pd.Timedelta).dt.total_seconds()/60.0\n",
        "actions_days[\"hours\"] = actions_days[\"mins\"]/60.0\n",
        "actions_days[\"days\"] = actions_days[\"mins\"]/60.0/24.0\n",
        "actions_days[\"weekend_days\"] = actions_days.apply(weekend_days, axis=1)\n",
        "actions_days[\"business_days\"] = actions_days[\"days\"] - actions_days[\"weekend_days\"]\n",
        "\n",
        "#aggregate by card id and list\n",
        "\n",
        "actions_agg = actions_days.groupby(['card_id', 'listBefore_id']).sum().reset_index()\n",
        "\n",
        "lists_df_to_join = lists_df([\"list_id\", \"list_name\"])\n",
        "lists_df_to_join = cards_df([\"card_id\", \"card_name\"])\n",
        "\n",
        "actions_agg = actions_agg.merge(lists_df_to_join, left_on=\"listBefore_id\", right_on\"list_pd\").merge(cards_df_to_join, left_on=\"card_id\", right_on=\"card_id\")\n",
        "\n",
        "actions_agg = actions_agg[['card_id', 'card_name', 'list_id', 'list_name', 'mins', 'hours', 'days', 'weekend_days', 'business_days']]\n",
        "actions_agg.to_csv(\"data/card_sum_days.csv\", index=False)\n",
        "actions_agg\n",
        "\n",
        "                            "
      ]
    },
    {
      "cell_type": "code",
      "execution_count": null,
      "metadata": {},
      "outputs": [],
      "source": [
        "#cards per list"
      ]
    },
    {
      "cell_type": "code",
      "execution_count": null,
      "metadata": {},
      "outputs": [],
      "source": [
        "cards_per_list = actions_agg.copy().pivot(index=\"card_id\", columns=\"list_name\", values=\"business_days\").reset_index()\n",
        "\n",
        "cards_df_to_join = cards_df[[\"card_id\", \"card_name\"]]\n",
        "\n",
        "cards_per_list = cards_per_list.merge(cards_df_to_join, left_on=\"card_id\", right_on=\"card_id\")\n",
        "cards_per_list = cards_per_list.fillna(0)\n",
        "cards_per_list = cards_per_list[['card_id', 'card_name', 'Backlog', 'In Progress', 'Done', 'Impotant Notes']]\n",
        "\n",
        "cards_per_list.to_csv(\"data/cards_per_list.csv\", index=False)\n",
        "cards_per_list"
      ]
    },
    {
      "cell_type": "code",
      "execution_count": null,
      "metadata": {},
      "outputs": [],
      "source": [
        "# Totals Response"
      ]
    },
    {
      "cell_type": "code",
      "execution_count": null,
      "metadata": {},
      "outputs": [],
      "source": [
        "selectable_columns = [\"action_creation_dt\", \"card_id\", \"listBefore_id\", \"listAfter_id\", \"card_name\", \"listBefore_name\", \"listAfter_name\"]\n",
        "actions_missing = actions_sort[selectable_columns].copy()\n",
        "\n",
        "cards_unique = actions_missing[\"card_id\"].unique()\n",
        "actions_missing_processed = []\n",
        "# loop the cards\n",
        "\n",
        "for card_id in cards_unique:\n",
        "    act_miss = actions_missing[actions_missing[\"card_id\"] == card_id]\n",
        "    # set index to action_creation_dt\n",
        "    act_miss.index = act_miss[\"action_creation_dt\"].copy()\n",
        "    act_miss = act_miss.fillna(method='bfill')\n",
        "    \n",
        "    # with index as datetime, pandas creates all dates between min and max\n",
        "    indx = pd.date_range(act_miss[\"action_creation_dt\"].min(), act_miss[\"action_creation_dt\"].max())\n",
        "    # the reindex will datetime fill gaps and populate newly created rows with data\n",
        "    act_miss = act_miss.reindex(indx, method='bfill')\n",
        "    \n",
        "    \n",
        "actions_missing_processed.append(act_miss)\n",
        "actions_missing_processed_df = pd.concat(actions_missing_processed)\n",
        "actions_missing_processed_df[\"datetime\"] = actions_missing_processed_df.index\n",
        "actions_missing_processed_df[\"date\"] = actions_missing_processed_df[\"datetime\"].dt.date\n",
        "actions_missing_processed_df = actions_missing_processed_df.sort_values(by=['card_id', 'datetime']).reset_index(drop=True)\n",
        "actions_missing_processed_df\n",
        "    \n",
        "                    "
      ]
    },
    {
      "cell_type": "code",
      "execution_count": null,
      "metadata": {},
      "outputs": [],
      "source": [
        "selectable_columns=[\"card_id\", \"listBefore_id\", \"datetime\", \"date\"]\n",
        "actions_missing_processed_df = actions_missing_processed_df[selectable_columns]\n",
        "\n",
        "lists_df_to_join = lists_df[[\"list_id\", \"list_name\"]]\n",
        "cards_df_to_join = cards_df[[\"card_id\", \"card_name\"]]\n"
      ]
    }
  ],
  "metadata": {
    "kernelspec": {
      "display_name": "Python 3.10.5 64-bit",
      "language": "python",
      "name": "python3"
    },
    "language_info": {
      "codemirror_mode": {
        "name": "ipython",
        "version": 3
      },
      "file_extension": ".py",
      "mimetype": "text/x-python",
      "name": "python",
      "nbconvert_exporter": "python",
      "pygments_lexer": "ipython3",
      "version": "3.10.5"
    },
    "vscode": {
      "interpreter": {
        "hash": "d3e10ef16274dd72e574b8fa73b58450b957d8421a2901baded3cca26fcf5dda"
      }
    }
  },
  "nbformat": 4,
  "nbformat_minor": 4
}
